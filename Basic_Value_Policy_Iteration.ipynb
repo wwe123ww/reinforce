{
  "nbformat": 4,
  "nbformat_minor": 0,
  "metadata": {
    "colab": {
      "provenance": []
    },
    "kernelspec": {
      "name": "python3",
      "display_name": "Python 3"
    },
    "language_info": {
      "name": "python"
    }
  },
  "cells": [
    {
      "cell_type": "markdown",
      "source": [
        "### The Code Below Perfoms Value Iteration"
      ],
      "metadata": {
        "id": "nIb9DpXGzSkU"
      }
    },
    {
      "cell_type": "code",
      "source": [
        "# Initialize Markov Decision Process model\n",
        "actions = (0, 1)  # actions (0=left, 1=right)\n",
        "states = (0, 1, 2, 3, 4)  # states (tiles)\n",
        "rewards = [-1, -1, 10, -1, -1]  # Direct rewards per state\n",
        "gamma = 0.9  # discount factor\n",
        "# Transition probabilities per state-action pair\n",
        "probs = [\n",
        "    [[0.9, 0.1], [0.1, 0.9], [0, 0], [0, 0], [0, 0]],\n",
        "    [[0.9, 0.1], [0, 0], [0.1, 0.9], [0, 0], [0, 0]],\n",
        "    [[0, 0], [0, 0], [0, 0], [0, 0], [0, 0]],  # Terminating state (all probs 0)\n",
        "    [[0, 0], [0, 0], [0.9, 0.1], [0, 0], [0.1, 0.9]],\n",
        "    [[0, 0], [0, 0], [0, 0], [0.9, 0.1], [0.1, 0.9]],\n",
        "]\n",
        "\n",
        "# Set value iteration parameters\n",
        "max_iter = 10000  # Maximum number of iterations\n",
        "delta = 1e-400  # Error tolerance\n",
        "V = [0, 0, 0, 0, 0]  # Initialize values\n",
        "pi = [None, None, None, None, None]  # Initialize policy\n",
        "\n",
        "\n",
        "# Start value iteration\n",
        "for i in range(max_iter):\n",
        "    max_diff = 0  # Initialize max difference\n",
        "    V_new = [0, 0, 0, 0, 0]  # Initialize values\n",
        "    for s in states:\n",
        "        max_val = 0\n",
        "        for a in actions:\n",
        "\n",
        "            # Compute state value\n",
        "            val = rewards[s]  # Get direct reward\n",
        "            for s_next in states:\n",
        "                val += probs[s][s_next][a] * (\n",
        "                    gamma * V[s_next]\n",
        "                )  # Add discounted downstream values\n",
        "\n",
        "            # Store value best action so far\n",
        "            max_val = max(max_val, val)\n",
        "\n",
        "            # Update best policy\n",
        "            if V[s] < val:\n",
        "                pi[s] = actions[a]  # Store action with highest value\n",
        "\n",
        "        V_new[s] = max_val  # Update value with highest value\n",
        "\n",
        "        # Update maximum difference\n",
        "        max_diff = max(max_diff, abs(V[s] - V_new[s]))\n",
        "\n",
        "    # Update value functions\n",
        "    V = V_new\n",
        "\n",
        "    # If diff smaller than threshold delta for all states, algorithm terminates\n",
        "    if max_diff < delta:\n",
        "        break"
      ],
      "metadata": {
        "id": "OpruS3B6wh2T"
      },
      "execution_count": null,
      "outputs": []
    },
    {
      "cell_type": "code",
      "source": [
        "# Print the final policy\n",
        "\n",
        "print(\"Final policy:\", pi)\n"
      ],
      "metadata": {
        "colab": {
          "base_uri": "https://localhost:8080/"
        },
        "id": "p_dLU021yWk-",
        "outputId": "2606f0ca-c39d-4b71-99ca-1b63682c9626"
      },
      "execution_count": null,
      "outputs": [
        {
          "output_type": "stream",
          "name": "stdout",
          "text": [
            "Final policy: [1, 1, 1, 0, 0]\n"
          ]
        }
      ]
    },
    {
      "cell_type": "markdown",
      "source": [
        "### The code below performs Policy Iteration"
      ],
      "metadata": {
        "id": "Y3UgwXbazZu0"
      }
    },
    {
      "cell_type": "code",
      "source": [
        "# Initialize Markov Decision Process model\n",
        "actions = (0, 1)  # actions (0=left, 1=right)\n",
        "states = (0, 1, 2, 3, 4)  # states (tiles)\n",
        "rewards = [-1, -1, 10, -1, -1]  # Direct rewards per state\n",
        "gamma = 0.9  # discount factor\n",
        "delta = 10  # Error tolerance\n",
        "# Transition probabilities per state-action pair\n",
        "probs = [\n",
        "    [[0.9, 0.1], [0.1, 0.9], [0, 0], [0, 0], [0, 0]],\n",
        "    [[0.9, 0.1], [0, 0], [0.1, 0.9], [0, 0], [0, 0]],\n",
        "    [[0, 0], [0, 0], [0, 0], [0, 0], [0, 0]],  # Terminating state (all probs 0)\n",
        "    [[0, 0], [0, 0], [0.9, 0.1], [0, 0], [0.1, 0.9]],\n",
        "    [[0, 0], [0, 0], [0, 0], [0.9, 0.1], [0.1, 0.9]],\n",
        "]\n",
        "\n",
        "# Set policy iteration parameters\n",
        "max_policy_iter = 10000  # Maximum number of policy iterations\n",
        "max_value_iter = 10000  # Maximum number of value iterations\n",
        "pi = [0 for s in states]\n",
        "V = [0 for s in states]\n",
        "\n",
        "\n",
        "for i in range(max_policy_iter):\n",
        "    # Initial assumption: policy is stable\n",
        "    optimal_policy_found = True\n",
        "\n",
        "    # Policy evaluation\n",
        "    # Compute value for each state under current policy\n",
        "    for j in range(max_value_iter):\n",
        "        max_diff = 0  # Initialize max difference\n",
        "        V_new = [0, 0, 0, 0, 0]  # Initialize values\n",
        "        for s in states:\n",
        "\n",
        "            # Compute state value\n",
        "            val = rewards[s]  # Get direct reward\n",
        "            for s_next in states:\n",
        "                val += probs[s][s_next][pi[s]] * (\n",
        "                        gamma * V[s_next]\n",
        "                )  # Add discounted downstream values\n",
        "\n",
        "            # Update maximum difference\n",
        "            max_diff = max(max_diff, abs(val - V[s]))\n",
        "\n",
        "            V[s] = val  # Update value with highest value\n",
        "        # If diff smaller than threshold delta for all states, algorithm terminates\n",
        "        if max_diff < delta:\n",
        "            break\n",
        "\n",
        "    # Policy iteration\n",
        "    # With updated state values, improve policy if needed\n",
        "    for s in states:\n",
        "\n",
        "        val_max = V[s]\n",
        "        for a in actions:\n",
        "            val = rewards[s]  # Get direct reward\n",
        "            for s_next in states:\n",
        "                val += probs[s][s_next][a] * (\n",
        "                    gamma * V[s_next]\n",
        "                )  # Add discounted downstream values\n",
        "\n",
        "            # Update policy if (i) action improves value and (ii) action different from current policy\n",
        "            if val > val_max and pi[s] != a:\n",
        "                pi[s] = a\n",
        "                val_max = val\n",
        "                optimal_policy_found = False\n",
        "\n",
        "    # If policy did not change, algorithm terminates\n",
        "    if optimal_policy_found:\n",
        "        break"
      ],
      "metadata": {
        "id": "Iv0YJ14LzZQM"
      },
      "execution_count": null,
      "outputs": []
    },
    {
      "cell_type": "code",
      "source": [
        "print(\"Final policy:\", pi)"
      ],
      "metadata": {
        "colab": {
          "base_uri": "https://localhost:8080/"
        },
        "id": "vvCVCPjF01WT",
        "outputId": "727a1e58-9dab-4e6a-ad70-1abfecf16b2c"
      },
      "execution_count": 11,
      "outputs": [
        {
          "output_type": "stream",
          "name": "stdout",
          "text": [
            "Final policy: [1, 1, 0, 0, 0]\n"
          ]
        }
      ]
    }
  ]
}